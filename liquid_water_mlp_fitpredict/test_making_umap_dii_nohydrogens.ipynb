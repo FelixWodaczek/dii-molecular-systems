{
 "cells": [
  {
   "cell_type": "code",
   "execution_count": 2,
   "metadata": {},
   "outputs": [
    {
     "name": "stderr",
     "output_type": "stream",
     "text": [
      "/home/fwodacze/anaconda3/envs/dadapy_usage/lib/python3.9/site-packages/tqdm/auto.py:21: TqdmWarning: IProgress not found. Please update jupyter and ipywidgets. See https://ipywidgets.readthedocs.io/en/stable/user_install.html\n",
      "  from .autonotebook import tqdm as notebook_tqdm\n"
     ]
    }
   ],
   "source": [
    "import pathlib\n",
    "\n",
    "import matplotlib.pyplot as plt\n",
    "import numpy as np\n",
    "from ase.io import read as ase_read\n",
    "import umap\n",
    "\n",
    "from dadapy.feature_weighting import FeatureWeighting"
   ]
  },
  {
   "cell_type": "code",
   "execution_count": 3,
   "metadata": {},
   "outputs": [],
   "source": [
    "import pandas as pd"
   ]
  },
  {
   "cell_type": "markdown",
   "metadata": {},
   "source": [
    "# Load"
   ]
  },
  {
   "cell_type": "code",
   "execution_count": 4,
   "metadata": {},
   "outputs": [],
   "source": [
    "data_dir = pathlib.Path('../data').resolve()"
   ]
  },
  {
   "cell_type": "code",
   "execution_count": null,
   "metadata": {},
   "outputs": [],
   "source": [
    "# Get ase.Atoms objects for each liquid configuration\n",
    "liquid_frames = ase_read(data_dir.joinpath(\"ice_in_water_data/dataset_1000_eVAng.xyz\"), index=':')\n",
    "n_atoms = np.sum(np.asarray([len(frame) for frame in liquid_frames], dtype=np.int16))\n",
    "atom_types = np.zeros((n_atoms), dtype=np.int8)\n",
    "\n",
    "# Collect some metadata, like how many atoms/config, atoms in total and which atom is even an oxygen.\n",
    "counter = 0\n",
    "for frame in liquid_frames:\n",
    "    atom_types[counter:counter+len(frame)] = frame.get_atomic_numbers()\n",
    "    counter+=len(frame)\n",
    "is_o = atom_types==8\n",
    "is_h = np.logical_not(is_o)\n",
    "\n",
    "# Alternatively this file also has the volumes\n",
    "liquid_energies_volumes = np.loadtxt(data_dir.joinpath(\"ice_in_water_data/all_volume_energies.txt\"))[-len(liquid_frames):]\n",
    "system_liquid_energies_volumes = []\n",
    "for ii_frame, frame in enumerate(liquid_frames):\n",
    "    system_liquid_energies_volumes.extend([liquid_energies_volumes[ii_frame]]*len(frame))\n",
    "system_liquid_energies_volumes = np.asarray(system_liquid_energies_volumes)"
   ]
  },
  {
   "cell_type": "code",
   "execution_count": null,
   "metadata": {},
   "outputs": [],
   "source": [
    "is_o.shape"
   ]
  },
  {
   "cell_type": "code",
   "execution_count": null,
   "metadata": {},
   "outputs": [],
   "source": [
    "atomic_soap = np.load(data_dir.joinpath(\"ice_in_water_data/singleatom_soap_rcut6_nmax6_lmax6_sigma03.npy\"))\n",
    "\n",
    "# The file format of the input file the descriptors are calculated from is 54 solid, 1000 liquid\n",
    "# So we can just get the liquid configurations by getting the number of atoms n_atoms in the liquid configurations\n",
    "# From the end of the decriptor matrix\n",
    "liquid_atomic_soap = atomic_soap[-n_atoms:, :].copy()\n",
    "liquid_atomic_soap.shape\n",
    "liquid_atomic_soap = liquid_atomic_soap[is_o]"
   ]
  },
  {
   "cell_type": "code",
   "execution_count": null,
   "metadata": {},
   "outputs": [],
   "source": [
    "atomic_acsf = np.asarray(np.load(data_dir.joinpath(\"ice_in_water_data/singleatom_acsf_rcut6_gridsearch_bohr_lambda.npy\")), dtype=np.float32)\n",
    "liquid_atomic_acsf = atomic_acsf[-n_atoms:, :].copy()\n",
    "liquid_atomic_acsf = liquid_atomic_acsf[is_o]"
   ]
  },
  {
   "cell_type": "code",
   "execution_count": null,
   "metadata": {},
   "outputs": [],
   "source": [
    "liquid_atomic_acsf.shape"
   ]
  },
  {
   "cell_type": "code",
   "execution_count": null,
   "metadata": {},
   "outputs": [],
   "source": [
    "descriptors = [atomic_soap, liquid_atomic_soap, atomic_acsf, liquid_atomic_acsf]\n",
    "for desc in descriptors:\n",
    "    desc /= np.linalg.norm(desc, axis=-1)[:, np.newaxis]\n",
    "atomic_soap, liquid_atomic_soap, atomic_acsf, liquid_atomic_acsf = descriptors\n",
    "\n",
    "print(np.count_nonzero(np.isnan(atomic_acsf)))\n",
    "print(np.argwhere(np.isnan(atomic_acsf)))\n",
    "print(atomic_acsf[64064])\n",
    "\n",
    "print(np.argwhere(np.logical_and.reduce(0.==liquid_atomic_acsf, axis=-0)))\n",
    "\n",
    "atomic_acsf[np.isnan(atomic_acsf)] = 0.\n",
    "liquid_atomic_acsf[np.isnan(liquid_atomic_acsf)] = 0."
   ]
  },
  {
   "cell_type": "code",
   "execution_count": null,
   "metadata": {},
   "outputs": [],
   "source": [
    "soap_cut = liquid_atomic_soap[::167]\n",
    "acsf_cut = liquid_atomic_acsf[::167]\n",
    "acsf_cut.shape"
   ]
  },
  {
   "cell_type": "code",
   "execution_count": null,
   "metadata": {},
   "outputs": [],
   "source": [
    "soap_cut"
   ]
  },
  {
   "cell_type": "code",
   "execution_count": null,
   "metadata": {},
   "outputs": [],
   "source": [
    "np.isnan(soap_cut).any()"
   ]
  },
  {
   "cell_type": "markdown",
   "metadata": {},
   "source": [
    "# UMAP"
   ]
  },
  {
   "cell_type": "code",
   "execution_count": null,
   "metadata": {},
   "outputs": [],
   "source": [
    "reducer = umap.UMAP(n_components=2, n_neighbors=15, min_dist=0.1, metric='euclidean')\n",
    "embedding = reducer.fit_transform(soap_cut)"
   ]
  },
  {
   "cell_type": "code",
   "execution_count": null,
   "metadata": {},
   "outputs": [],
   "source": [
    "umap=embedding"
   ]
  },
  {
   "cell_type": "code",
   "execution_count": null,
   "metadata": {},
   "outputs": [],
   "source": [
    "print(system_liquid_energies_volumes.shape)"
   ]
  },
  {
   "cell_type": "code",
   "execution_count": null,
   "metadata": {},
   "outputs": [],
   "source": [
    "plt.scatter(umap[:,0], umap[:,1], c=system_liquid_energies_volumes[is_o][::167, 1], cmap='viridis')"
   ]
  },
  {
   "cell_type": "markdown",
   "metadata": {},
   "source": [
    "### There are some 0 columns in the ACSFs. drop them"
   ]
  },
  {
   "cell_type": "code",
   "execution_count": null,
   "metadata": {},
   "outputs": [],
   "source": [
    "zero_columns = np.where(np.all(acsf_cut == 0, axis=0))\n",
    "print(np.where(np.all(liquid_atomic_acsf == 0., axis=0)))\n",
    "acsf_cut = np.delete(acsf_cut, zero_columns, axis=1)"
   ]
  },
  {
   "cell_type": "code",
   "execution_count": null,
   "metadata": {},
   "outputs": [],
   "source": []
  },
  {
   "cell_type": "markdown",
   "metadata": {},
   "source": [
    "# DII"
   ]
  },
  {
   "cell_type": "code",
   "execution_count": null,
   "metadata": {},
   "outputs": [],
   "source": [
    "n_epochs = 70  # number of training epochs\n",
    "l1s=[0 ,0.1, 10, 1000, 100000]\n",
    "\n",
    "f = FeatureWeighting(coordinates=acsf_cut, verbose=True)\n",
    "f_target = FeatureWeighting(coordinates=umap)\n",
    "\n",
    "(\n",
    "    num_nonzero_features,\n",
    "    l1_penalties_opt_per_nfeatures,\n",
    "    dii_opt_per_nfeatures,\n",
    "    weights_opt_per_nfeatures,\n",
    ") = f.return_lasso_optimization_dii_search(\n",
    "    target_data=f_target,\n",
    "    # initial_weights=None,  # (default) set automatically\n",
    "    n_epochs=n_epochs,\n",
    "    l1_penalties=l1s,\n",
    "    learning_rate=None,  # (default) set automatically\n",
    "    refine=False,  # only 10 values of the L1 strength are tested\n",
    "    plotlasso=True,  # automatically show DII vs number of non-zero features\n",
    ")"
   ]
  },
  {
   "cell_type": "code",
   "execution_count": null,
   "metadata": {},
   "outputs": [],
   "source": [
    "n_epochs = 70  # number of training epochs\n",
    "l1s=[10000000, 1000000000, 100000000000]\n",
    "\n",
    "f = FeatureWeighting(coordinates=acsf_cut, verbose=True)\n",
    "f_target = FeatureWeighting(coordinates=umap)\n",
    "\n",
    "(\n",
    "    num_nonzero_features,\n",
    "    l1_penalties_opt_per_nfeatures,\n",
    "    dii_opt_per_nfeatures,\n",
    "    weights_opt_per_nfeatures,\n",
    ") = f.return_lasso_optimization_dii_search(\n",
    "    target_data=f_target,\n",
    "    initial_weights=None,  # (default) set automatically\n",
    "    n_epochs=n_epochs,\n",
    "    l1_penalties=l1s,\n",
    "    learning_rate=None,  # (default) set automatically\n",
    "    refine=False,  # only 10 values of the L1 strength are tested\n",
    "    plotlasso=True,  # automatically show DII vs number of non-zero features\n",
    ")"
   ]
  },
  {
   "cell_type": "code",
   "execution_count": null,
   "metadata": {},
   "outputs": [],
   "source": [
    "n_epochs = 70  # number of training epochs\n",
    "\n",
    "final_imbs, final_weights = f.return_backward_greedy_dii_elimination(\n",
    "    target_data=f_target,\n",
    "    initial_weights=None,  # set automatically (default)\n",
    "    n_epochs=n_epochs,\n",
    "    learning_rate=None,  # set automatically (default)\n",
    ")"
   ]
  },
  {
   "cell_type": "code",
   "execution_count": null,
   "metadata": {},
   "outputs": [],
   "source": [
    "final_imbs.shape"
   ]
  },
  {
   "cell_type": "code",
   "execution_count": null,
   "metadata": {},
   "outputs": [],
   "source": [
    "np.savetxt(\"final_imbs_nohydrogen.csv\", final_imbs)\n",
    "np.savetxt(\"final_weights_nohydrogen.csv\", final_weights)"
   ]
  },
  {
   "cell_type": "code",
   "execution_count": null,
   "metadata": {},
   "outputs": [],
   "source": [
    "plt.plot(np.arange(len(final_imbs), 0, -1),final_imbs,  \".-\")"
   ]
  }
 ],
 "metadata": {
  "kernelspec": {
   "display_name": "diidada3",
   "language": "python",
   "name": "python3"
  },
  "language_info": {
   "codemirror_mode": {
    "name": "ipython",
    "version": 3
   },
   "file_extension": ".py",
   "mimetype": "text/x-python",
   "name": "python",
   "nbconvert_exporter": "python",
   "pygments_lexer": "ipython3",
   "version": "3.9.19"
  }
 },
 "nbformat": 4,
 "nbformat_minor": 2
}
