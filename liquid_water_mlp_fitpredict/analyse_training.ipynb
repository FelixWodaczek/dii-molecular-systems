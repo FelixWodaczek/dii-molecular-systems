{
 "cells": [
  {
   "cell_type": "markdown",
   "metadata": {},
   "source": [
    "# Analysing Training of Behler-Parrinello MLPs\n",
    "\n",
    "Imported learning curves from cluster and build visualisation for training and performance."
   ]
  },
  {
   "cell_type": "markdown",
   "metadata": {},
   "source": [
    "## Imports"
   ]
  },
  {
   "cell_type": "code",
   "execution_count": null,
   "metadata": {},
   "outputs": [],
   "source": [
    "import pathlib\n",
    "import re\n",
    "\n",
    "import matplotlib as mpl\n",
    "import matplotlib.pyplot as plt\n",
    "import numpy as np"
   ]
  },
  {
   "cell_type": "markdown",
   "metadata": {},
   "source": [
    "## Learning Curves"
   ]
  },
  {
   "cell_type": "code",
   "execution_count": null,
   "metadata": {},
   "outputs": [],
   "source": [
    "data_dir = pathlib.Path('../data').resolve()"
   ]
  },
  {
   "cell_type": "code",
   "execution_count": null,
   "metadata": {},
   "outputs": [],
   "source": [
    "fig, axes = plt.subplots(2, 1, figsize=(6, 6))\n",
    "\n",
    "fs = 12\n",
    "acsf_list = ['10', '25', '50', '176']\n",
    "norm = mpl.colors.Normalize(vmin=0, vmax=len(acsf_list))\n",
    "cmap = plt.get_cmap(\"viridis\", len(acsf_list))\n",
    "color_dict = {n_acsf: cmap(norm(ii_acsf)) for ii_acsf, n_acsf in enumerate(acsf_list)}\n",
    "mappable = mpl.cm.ScalarMappable(cmap=cmap, norm=norm)\n",
    "\n",
    "legend_elements = []\n",
    "\n",
    "pot_dir = 'n2p2_fitting/bc_compare/'\n",
    "target_file = data_dir.joinpath(pot_dir, 'learning-curve.out')\n",
    "all_errors = np.loadtxt(target_file)\n",
    "all_errors[:, 1:9] *= 27.211386245988\n",
    "all_errors[:, 9:13] *= 51.421 # Hartree/Bohr to eV/Angstrom conversion\n",
    "\n",
    "last_line = axes[0].plot(all_errors[:, 12], color='k')\n",
    "axes[1].plot(all_errors[:, 2]*3, color=last_line[-1].get_color())\n",
    "\n",
    "# These contain properly matched descriptor with 4 orders of magnitude in eta\n",
    "for pot_dir in data_dir.joinpath('n2p2_fitting').glob('231213_training_out/231213_pot_acsf*/'):\n",
    "    acsf_params = re.search('(acsf)([0-9]*)([A-z]*)_hartbohr', pot_dir.name)\n",
    "    n_acsf, tar = acsf_params.group(2), acsf_params.group(3)\n",
    "\n",
    "    target_file = pot_dir.joinpath('learning-curve.out')\n",
    "    all_errors = np.loadtxt(target_file)\n",
    "    all_errors[:, 1:9] *= 27.211386245988\n",
    "    all_errors[:, 9:13] *= 51.421 # Hartree/Bohr to eV/Angstrom conversion\n",
    "\n",
    "    color = color_dict[n_acsf]\n",
    "\n",
    "    if tar == 'rand':\n",
    "        last_line = axes[0].plot(all_errors[:, 12], linestyle='-.', color=color)\n",
    "        axes[1].plot(all_errors[:, 2]*3, linestyle='-.', color=last_line[-1].get_color())\n",
    "    else:\n",
    "        last_line = axes[0].plot(all_errors[:, 12], linestyle='-', color=color)\n",
    "        axes[1].plot(all_errors[:, 2]*3, linestyle='-', color=last_line[-1].get_color())\n",
    "\n",
    "axes[0].set_title('Error of Test Forces', fontsize=fs)\n",
    "axes[0].set_xlabel('epoch', fontsize=fs)\n",
    "axes[0].set_ylabel('Force MAE [eV/A]', fontsize=fs)\n",
    "axes[0].set_yscale('log')\n",
    "axes[0].set_xlim((0, 30))\n",
    "\n",
    "axes[1].set_title('Error of Test Energies per H2O Molecule', fontsize=fs)\n",
    "axes[1].set_xlabel('epoch', fontsize=fs)\n",
    "axes[1].set_ylabel('Energy MAE [eV/H2O]', fontsize=fs)\n",
    "axes[1].set_yscale('log')\n",
    "axes[1].set_xlim((0, 30))\n",
    "\n",
    "fig.legend(\n",
    "    handles=[\n",
    "        mpl.lines.Line2D([0], [0], color=color_dict['25'], label='kernel imbalance'),\n",
    "        mpl.lines.Line2D([0], [0], color=color_dict['25'], linestyle='-.', label='random'),\n",
    "        mpl.lines.Line2D([0], [0], color='k', label='reference (BC)'),\n",
    "    ], \n",
    "    ncols=6, fontsize=fs-3, bbox_to_anchor=(0.8, 0),\n",
    ")\n",
    "for ax in axes:\n",
    "    cb = fig.colorbar(ax=ax, mappable=mpl.cm.ScalarMappable(norm=norm, cmap=cmap))\n",
    "    cb.set_ticks(ticks=np.arange(len(acsf_list))+0.5, labels=[int(n_acsf) for n_acsf in acsf_list])\n",
    "\n",
    "plt.tight_layout()\n",
    "fig.savefig(fname=\"test_error_eVAvsHBscaled_newgrid.png\", format='png', bbox_inches='tight', dpi=300)\n",
    "plt.show()"
   ]
  },
  {
   "cell_type": "markdown",
   "metadata": {},
   "source": [
    "## Number of Weights vs. Error"
   ]
  },
  {
   "cell_type": "code",
   "execution_count": null,
   "metadata": {},
   "outputs": [],
   "source": [
    "from glob import glob\n",
    "import re\n",
    "\n",
    "target_dir = data_dir.joinpath(\"n2p2_fitting/231213_training_out/\")\n",
    "\n",
    "results_dict = {}\n",
    "for logfile in target_dir.glob('*.log'):\n",
    "    with open(logfile, 'r') as f:\n",
    "        content = f.read()\n",
    "        runtype = re.search(\"231213_pot_acsf(.*)_hartbohr_scaleunits_bcdata_lambda\", content).group(1)\n",
    "        memory_kb = re.search(\"\\s([0-9]*)maxresident\", content).group(1)\n",
    "        runtime_s = re.search(\"([0-9]*)user\", content).group(1)\n",
    "        \n",
    "        pot_dir = target_dir.joinpath(\"231213_pot_acsf\"+runtype+\"_hartbohr_scaleunits_bcdata_lambda/\")\n",
    "        all_errors = np.loadtxt(pot_dir.joinpath('learning-curve.out'))\n",
    "        all_errors[:, 1:9] *= 27.211386245988\n",
    "        all_errors[:, 9:13] *= 51.421 # Hartree/Bohr to eV/Angstrom conversion\n",
    "        mae_ftest_evA = all_errors[-1, 12]\n",
    "        \n",
    "        results_dict[runtype] = {\"memory\": int(memory_kb), \"runtime\": float(runtime_s), \"mae\": mae_ftest_evA}"
   ]
  },
  {
   "cell_type": "code",
   "execution_count": null,
   "metadata": {},
   "outputs": [],
   "source": [
    "fig = plt.figure(figsize=(6, 3))\n",
    "mae_ax = fig.add_subplot(111)\n",
    "\n",
    "kernel_keys = ['10', '25', '50', '176']\n",
    "rand_keys = ['10rand', '25rand', '50rand', '176']\n",
    "\n",
    "rcolor = 'tab:orange'\n",
    "lcolor = 'tab:blue'\n",
    "\n",
    "mae_ax.plot(\n",
    "    [int(kernel_key) for kernel_key in kernel_keys],\n",
    "    [results_dict[kernel_key][\"mae\"] for kernel_key in kernel_keys],\n",
    "    label='lasso', color=lcolor, marker='x', linestyle='-'\n",
    ")\n",
    "mae_ax.plot(\n",
    "    [int(kernel_key) for kernel_key in kernel_keys],\n",
    "    [results_dict[rand_keys][\"mae\"] for rand_keys in rand_keys],\n",
    "    label='random', color=lcolor, marker='^', linestyle='--'\n",
    ")\n",
    "# mae_ax.plot(176, results_dict['176'][\"mae\"], color='tab:green', marker='o', markersize=4)\n",
    "mae_ax.set_xlabel(\"N Features\")\n",
    "\n",
    "mae_ax.set_ylabel(\"Test Force MAE [eV/A]\", color=lcolor)\n",
    "mae_ax.grid(axis='y', color=lcolor)\n",
    "mae_ax.tick_params(axis='y', which='both', color=lcolor, labelcolor=lcolor)\n",
    "# mae_ax.yaxis.set_major_locator(mpl.ticker.MaxNLocator(4))\n",
    "# axes[0].set_xscale('log')\n",
    "# axes[0].set_yscale('log')\n",
    "\n",
    "\n",
    "time_ax = mae_ax.twinx()\n",
    "time_ax.plot(\n",
    "    [int(kernel_key) for kernel_key in kernel_keys], \n",
    "    [results_dict[kernel_key][\"runtime\"] for kernel_key in kernel_keys],\n",
    "    label='lasso', color=rcolor, marker='x', linestyle='-'\n",
    ")\n",
    "time_ax.plot(\n",
    "    [int(kernel_key) for kernel_key in kernel_keys], \n",
    "    [results_dict[rand_keys][\"runtime\"] for rand_keys in rand_keys],\n",
    "    label='random', color=rcolor, marker='^', linestyle='--'\n",
    ")\n",
    "# time_ax.plot(176, results_dict['176'][\"runtime\"], color='tab:green', marker='o', markersize=4)\n",
    "time_ax.set_ylabel(\"Runtime [s]\", color=rcolor)\n",
    "time_ax.yaxis.set_label_position(\"right\")\n",
    "time_ax.tick_params(axis='x', which='both', bottom=False, labelbottom=False)\n",
    "time_ax.tick_params(axis='y', which='both', left=False, labelleft=False, right=True, labelright=True, color=rcolor, labelcolor=rcolor)\n",
    "# time_ax.grid(axis='y', color=rcolor)\n",
    "# time_ax.yaxis.set_major_locator(mpl.ticker.LinearLocator(4))\n",
    "\n",
    "fig.suptitle(\"Performance of MLPs\")\n",
    "plt.tight_layout()\n",
    "fig.savefig(\"mlp_performance.png\", format='png', bbox_inches='tight')\n",
    "\n",
    "plt.show()"
   ]
  },
  {
   "cell_type": "code",
   "execution_count": null,
   "metadata": {},
   "outputs": [],
   "source": []
  }
 ],
 "metadata": {
  "kernelspec": {
   "display_name": "kimb_usage",
   "language": "python",
   "name": "python3"
  },
  "language_info": {
   "codemirror_mode": {
    "name": "ipython",
    "version": 3
   },
   "file_extension": ".py",
   "mimetype": "text/x-python",
   "name": "python",
   "nbconvert_exporter": "python",
   "pygments_lexer": "ipython3",
   "version": "3.9.19"
  }
 },
 "nbformat": 4,
 "nbformat_minor": 2
}
