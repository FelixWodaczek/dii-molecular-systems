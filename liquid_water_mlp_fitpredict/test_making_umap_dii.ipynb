{
 "cells": [
  {
   "cell_type": "code",
   "execution_count": null,
   "metadata": {},
   "outputs": [],
   "source": [
    "import pathlib\n",
    "\n",
    "import matplotlib.pyplot as plt\n",
    "import numpy as np\n",
    "from ase.io import read as ase_read\n",
    "import umap\n",
    "\n",
    "from dadapy.feature_weighting import FeatureWeighting"
   ]
  },
  {
   "cell_type": "code",
   "execution_count": null,
   "metadata": {},
   "outputs": [],
   "source": [
    "import pandas as pd"
   ]
  },
  {
   "cell_type": "markdown",
   "metadata": {},
   "source": [
    "# Load"
   ]
  },
  {
   "cell_type": "code",
   "execution_count": null,
   "metadata": {},
   "outputs": [],
   "source": [
    "data_dir = pathlib.Path('../data').resolve()"
   ]
  },
  {
   "cell_type": "code",
   "execution_count": null,
   "metadata": {},
   "outputs": [],
   "source": [
    "# Get ase.Atoms objects for each liquid configuration\n",
    "liquid_frames = ase_read(data_dir.joinpath(\"ice_in_water_data/dataset_1000_eVAng.xyz\"), index=':')\n",
    "n_atoms = np.sum(np.asarray([len(frame) for frame in liquid_frames], dtype=np.int16))"
   ]
  },
  {
   "cell_type": "code",
   "execution_count": null,
   "metadata": {},
   "outputs": [],
   "source": [
    "n_atoms"
   ]
  },
  {
   "cell_type": "code",
   "execution_count": null,
   "metadata": {},
   "outputs": [],
   "source": [
    "atomic_soap = np.load(data_dir.joinpath(\"ice_in_water_data/singleatom_soap_rcut6_nmax6_lmax6_sigma03.npy\"))\n",
    "\n",
    "# The file format of the input file the descriptors are calculated from is 54 solid, 1000 liquid\n",
    "# So we can just get the liquid configurations by getting the number of atoms n_atoms in the liquid configurations\n",
    "# From the end of the decriptor matrix\n",
    "liquid_atomic_soap = atomic_soap[-n_atoms:, :].copy()"
   ]
  },
  {
   "cell_type": "code",
   "execution_count": null,
   "metadata": {},
   "outputs": [],
   "source": [
    "atomic_acsf = np.asarray(np.load(data_dir.joinpath(\"ice_in_water_data/singleatom_acsf_rcut6_gridsearch_bohr_lambda.npy\")), dtype=np.float32)\n",
    "liquid_atomic_acsf = atomic_acsf[-n_atoms:, :].copy()"
   ]
  },
  {
   "cell_type": "code",
   "execution_count": null,
   "metadata": {},
   "outputs": [],
   "source": [
    "# descriptors = [atomic_soap, liquid_atomic_soap, atomic_acsf, liquid_atomic_acsf]\n",
    "# for desc in descriptors:\n",
    "#     desc /= np.linalg.norm(desc, axis=-1)[:, np.newaxis]\n",
    "# atomic_soap, liquid_atomic_soap, atomic_acsf, liquid_atomic_acsf = descriptors"
   ]
  },
  {
   "cell_type": "code",
   "execution_count": null,
   "metadata": {},
   "outputs": [],
   "source": [
    "soap_cut = liquid_atomic_soap[::500]\n",
    "acsf_cut = liquid_atomic_acsf[::500]\n",
    "acsf_cut.shape"
   ]
  },
  {
   "cell_type": "code",
   "execution_count": null,
   "metadata": {},
   "outputs": [],
   "source": [
    "soap_cut"
   ]
  },
  {
   "cell_type": "code",
   "execution_count": null,
   "metadata": {},
   "outputs": [],
   "source": [
    "np.isnan(soap_cut).any()"
   ]
  },
  {
   "cell_type": "markdown",
   "metadata": {},
   "source": [
    "# UMAP"
   ]
  },
  {
   "cell_type": "code",
   "execution_count": null,
   "metadata": {},
   "outputs": [],
   "source": [
    "reducer = umap.UMAP(n_components=2, n_neighbors=15, min_dist=0.1, metric='euclidean')\n",
    "embedding = reducer.fit_transform(soap_cut)"
   ]
  },
  {
   "cell_type": "code",
   "execution_count": null,
   "metadata": {},
   "outputs": [],
   "source": [
    "umap=embedding"
   ]
  },
  {
   "cell_type": "code",
   "execution_count": null,
   "metadata": {},
   "outputs": [],
   "source": [
    "plt.plot(umap[:,0], umap[:,1], 'o')"
   ]
  },
  {
   "cell_type": "markdown",
   "metadata": {},
   "source": [
    "### There are some 0 columns in the ACSFs. drop them"
   ]
  },
  {
   "cell_type": "code",
   "execution_count": null,
   "metadata": {},
   "outputs": [],
   "source": [
    "zero_columns = np.where(np.all(acsf_cut == 0, axis=0))\n",
    "acsf_cut = np.delete(acsf_cut, zero_columns, axis=1)"
   ]
  },
  {
   "cell_type": "code",
   "execution_count": null,
   "metadata": {},
   "outputs": [],
   "source": []
  },
  {
   "cell_type": "markdown",
   "metadata": {},
   "source": [
    "# DII"
   ]
  },
  {
   "cell_type": "code",
   "execution_count": null,
   "metadata": {},
   "outputs": [],
   "source": [
    "n_epochs = 70  # number of training epochs\n",
    "l1s=[0 ,0.1, 10, 1000, 100000]\n",
    "\n",
    "f = FeatureWeighting(coordinates=acsf_cut, verbose=True)\n",
    "f_target = FeatureWeighting(coordinates=umap)\n",
    "\n",
    "(\n",
    "    num_nonzero_features,\n",
    "    l1_penalties_opt_per_nfeatures,\n",
    "    dii_opt_per_nfeatures,\n",
    "    weights_opt_per_nfeatures,\n",
    ") = f.return_lasso_optimization_dii_search(\n",
    "    target_data=f_target,\n",
    "    initial_weights=None,  # (default) set automatically\n",
    "    n_epochs=n_epochs,\n",
    "    l1_penalties=l1s,\n",
    "    learning_rate=None,  # (default) set automatically\n",
    "    refine=False,  # only 10 values of the L1 strength are tested\n",
    "    plotlasso=True,  # automatically show DII vs number of non-zero features\n",
    ")"
   ]
  },
  {
   "cell_type": "code",
   "execution_count": null,
   "metadata": {},
   "outputs": [],
   "source": [
    "n_epochs = 70  # number of training epochs\n",
    "l1s=[10000000, 100000000, 1000000000, 10000000000]\n",
    "\n",
    "f = FeatureWeighting(coordinates=acsf_cut, verbose=True)\n",
    "f_target = FeatureWeighting(coordinates=umap)\n",
    "\n",
    "(\n",
    "    num_nonzero_features,\n",
    "    l1_penalties_opt_per_nfeatures,\n",
    "    dii_opt_per_nfeatures,\n",
    "    weights_opt_per_nfeatures,\n",
    ") = f.return_lasso_optimization_dii_search(\n",
    "    target_data=f_target,\n",
    "    initial_weights=None,  # (default) set automatically\n",
    "    n_epochs=n_epochs,\n",
    "    l1_penalties=l1s,\n",
    "    learning_rate=None,  # (default) set automatically\n",
    "    refine=False,  # only 10 values of the L1 strength are tested\n",
    "    plotlasso=True,  # automatically show DII vs number of non-zero features\n",
    ")"
   ]
  },
  {
   "cell_type": "markdown",
   "metadata": {},
   "source": [
    "# Backward greedy"
   ]
  },
  {
   "cell_type": "code",
   "execution_count": null,
   "metadata": {},
   "outputs": [],
   "source": [
    "n_epochs = 70  # number of training epochs\n",
    "\n",
    "final_imbs, final_weights = f.return_backward_greedy_dii_elimination(\n",
    "    target_data=f_target,\n",
    "    initial_weights=None,  # set automatically (default)\n",
    "    n_epochs=n_epochs,\n",
    "    learning_rate=None,  # set automatically (default)\n",
    ")"
   ]
  },
  {
   "cell_type": "code",
   "execution_count": null,
   "metadata": {},
   "outputs": [],
   "source": [
    "np.savetxt(\"final_imbs.csv\", final_imbs)\n",
    "np.savetxt(\"final_weights.csv\", final_weights)"
   ]
  },
  {
   "cell_type": "code",
   "execution_count": null,
   "metadata": {},
   "outputs": [],
   "source": [
    "plt.plot(np.arange(len(final_imbs), 0, -1),final_imbs,  \".-\")"
   ]
  }
 ],
 "metadata": {
  "kernelspec": {
   "display_name": "diidada3",
   "language": "python",
   "name": "python3"
  },
  "language_info": {
   "codemirror_mode": {
    "name": "ipython",
    "version": 3
   },
   "file_extension": ".py",
   "mimetype": "text/x-python",
   "name": "python",
   "nbconvert_exporter": "python",
   "pygments_lexer": "ipython3",
   "version": "3.9.19"
  }
 },
 "nbformat": 4,
 "nbformat_minor": 2
}
